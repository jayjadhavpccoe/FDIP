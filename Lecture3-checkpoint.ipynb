{
 "cells": [
  {
   "cell_type": "code",
   "execution_count": 302,
   "id": "395af8ec-ad04-4d35-8a59-7fbef773e63e",
   "metadata": {},
   "outputs": [],
   "source": [
    "from PIL import Image\n",
    "from PIL import ImageDraw\n",
    "\n",
    "image = Image.open(r\"C:\\\\Users\\\\ML\\Desktop\\\\123B1F033\\\\car1.jpg\")\n",
    "image.show()"
   ]
  },
  {
   "cell_type": "code",
   "execution_count": 304,
   "id": "09909712-a8a6-4828-9ef5-9b3c1e90653d",
   "metadata": {},
   "outputs": [
    {
     "name": "stdout",
     "output_type": "stream",
     "text": [
      "(5376, 3584)\n",
      "JPEG\n",
      "RGB\n"
     ]
    }
   ],
   "source": [
    "print(image.size)\n",
    "print(image.format)\n",
    "print(image.mode)"
   ]
  },
  {
   "cell_type": "code",
   "execution_count": 306,
   "id": "0e7b2b9f-f039-42d6-8142-cde56103ea16",
   "metadata": {},
   "outputs": [],
   "source": [
    "resized_image = image.resize((1000, 500))\n",
    "resized_image.show()"
   ]
  },
  {
   "cell_type": "code",
   "execution_count": 308,
   "id": "5a5dd813-a045-4608-b6e8-e85bb2456961",
   "metadata": {},
   "outputs": [],
   "source": [
    "cropped_image = image.crop((10, 10,1000, 1000))\n",
    "cropped_image.show()"
   ]
  },
  {
   "cell_type": "code",
   "execution_count": 310,
   "id": "7193142c-72bf-4118-90d8-f3bfd040ffee",
   "metadata": {},
   "outputs": [],
   "source": [
    "rotated_image = image.rotate(100)\n",
    "rotated_image.show()"
   ]
  },
  {
   "cell_type": "code",
   "execution_count": 312,
   "id": "1fbfea5d-a9d2-47dd-bd53-79d823c204ee",
   "metadata": {},
   "outputs": [],
   "source": [
    "from PIL import Image,ImageDraw,ImageFont\n",
    "\n",
    "image = Image.open(r\"C:\\\\Users\\\\ML\\Desktop\\\\123B1F033\\\\car1.jpg\")\n",
    "draw = ImageDraw.Draw(image)\n",
    "font = ImageFont.truetype(\"FreebrushScriptPLng.ttf\", 500)\n",
    "\n",
    "text = \"Vintage Car\"\n",
    "position = (1057, 1205)\n",
    "color = (9, 0, 11)\n",
    "draw.text(position, text, fill=color, font=font)\n",
    "image.show()"
   ]
  },
  {
   "cell_type": "code",
   "execution_count": 314,
   "id": "91acfc45-b540-42af-97ce-ff0849ac3547",
   "metadata": {},
   "outputs": [],
   "source": [
    "from PIL import Image, ImageDraw, ImageFont\n",
    "# Open the image and the watermark image\n",
    "image = Image.open(r\"C:\\\\Users\\\\ML\\Desktop\\\\123B1F033\\\\car1.jpg\").convert(\"RGBA\")\n",
    "watermark = Image.open(r\"C:\\\\Users\\\\ML\\\\Desktop\\\\123B1F033\\\\watermark.png\").convert(\"RGBA\")\n",
    "# Resize the watermark image to a suitable size\n",
    "width, height = image.size\n",
    "watermark = watermark.resize((width, height))\n",
    "# Blend the watermark with the image\n",
    "image.paste(watermark, (width - watermark.width - 10, height - watermark.height - 10),watermark)\n",
    "# Display the watermarked image\n",
    "image.show()\n"
   ]
  },
  {
   "cell_type": "code",
   "execution_count": 316,
   "id": "acc4bb8b-6777-4e87-bfd1-dbc80038b973",
   "metadata": {},
   "outputs": [],
   "source": [
    "from PIL import Image, ImageDraw, ImageFont,ImageEnhance\n",
    "\n",
    "image = Image.open(r\"C:\\\\Users\\\\ML\\Desktop\\\\123B1F033\\\\car1.jpg\").convert(\"RGBA\")\n",
    "# Adjust the brightness\n",
    "enhancer = ImageEnhance.Brightness(image)\n",
    "brightened_image = enhancer.enhance(1.5)\n",
    "# Adjust the contrast\n",
    "enhancer = ImageEnhance.Contrast(brightened_image)\n",
    "contrasted_image = enhancer.enhance(1.2)\n",
    "# Display the enhanced image\n",
    "contrasted_image.show()\n",
    "image.save(\"contrasted_image.png\", format=\"PNG\")"
   ]
  },
  {
   "cell_type": "code",
   "execution_count": 317,
   "id": "93fdec71-3140-4596-8769-cf9f6c559675",
   "metadata": {},
   "outputs": [
    {
     "name": "stdout",
     "output_type": "stream",
     "text": [
      "Image file not found.\n"
     ]
    }
   ],
   "source": [
    "from PIL import Image\n",
    "try:\n",
    "    image = Image.open(\"image.jpg\")\n",
    "    image.show()\n",
    "except FileNotFoundError:\n",
    "    print(\"Image file not found.\")\n",
    "except Exception as e:\n",
    "    print(\"An error occurred:\", str(e))"
   ]
  },
  {
   "cell_type": "code",
   "execution_count": null,
   "id": "8d4dc16d-5cdb-4a24-bc82-e480a3eba091",
   "metadata": {},
   "outputs": [],
   "source": []
  }
 ],
 "metadata": {
  "kernelspec": {
   "display_name": "Python 3 (ipykernel)",
   "language": "python",
   "name": "python3"
  },
  "language_info": {
   "codemirror_mode": {
    "name": "ipython",
    "version": 3
   },
   "file_extension": ".py",
   "mimetype": "text/x-python",
   "name": "python",
   "nbconvert_exporter": "python",
   "pygments_lexer": "ipython3",
   "version": "3.12.4"
  }
 },
 "nbformat": 4,
 "nbformat_minor": 5
}
